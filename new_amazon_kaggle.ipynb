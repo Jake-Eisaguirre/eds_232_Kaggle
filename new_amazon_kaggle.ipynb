{
 "cells": [
  {
   "cell_type": "code",
   "execution_count": 14,
   "id": "fa218be9-3422-4f30-ada3-20acac7c4bc6",
   "metadata": {},
   "outputs": [],
   "source": [
    "import numpy as np # linear algebra\n",
    "import pandas as pd # data processing, CSV file I/O (e.g. pd.read_csv)\n",
    "import os\n",
    "import gc\n",
    "\n",
    "import keras as k\n",
    "from keras.models import Sequential\n",
    "from keras.layers import Dense, Dropout, Flatten\n",
    "from keras.layers import Conv2D, MaxPooling2D\n",
    "\n",
    "import cv2\n",
    "from tqdm import tqdm"
   ]
  },
  {
   "cell_type": "code",
   "execution_count": 15,
   "id": "dff00675-e58b-4222-841c-0f73651f5e1a",
   "metadata": {},
   "outputs": [
    {
     "name": "stderr",
     "output_type": "stream",
     "text": [
      "100%|██████████| 40479/40479 [00:36<00:00, 1096.75it/s]\n"
     ]
    },
    {
     "name": "stdout",
     "output_type": "stream",
     "text": [
      "(40479, 32, 32, 3)\n",
      "(40479, 17)\n"
     ]
    },
    {
     "name": "stderr",
     "output_type": "stream",
     "text": [
      "2022-03-07 21:14:13.508262: W tensorflow/core/framework/cpu_allocator_impl.cc:80] Allocation of 430080000 exceeds 10% of free system memory.\n"
     ]
    },
    {
     "name": "stdout",
     "output_type": "stream",
     "text": [
      "Epoch 1/4\n",
      "274/274 [==============================] - 9s 31ms/step - loss: 0.2473 - accuracy: 0.4445 - val_loss: 0.1942 - val_accuracy: 0.4625\n",
      "Epoch 2/4\n",
      "274/274 [==============================] - 8s 29ms/step - loss: 0.2020 - accuracy: 0.4612 - val_loss: 0.1817 - val_accuracy: 0.4671\n",
      "Epoch 3/4\n",
      "274/274 [==============================] - 8s 28ms/step - loss: 0.1877 - accuracy: 0.4617 - val_loss: 0.1736 - val_accuracy: 0.4698\n",
      "Epoch 4/4\n",
      "274/274 [==============================] - 7s 27ms/step - loss: 0.1787 - accuracy: 0.4541 - val_loss: 0.1641 - val_accuracy: 0.4723\n",
      "[[0 1 0 ... 0 0 0]\n",
      " [0 0 0 ... 0 0 0]\n",
      " [1 1 0 ... 0 0 0]\n",
      " ...\n",
      " [0 0 0 ... 0 0 0]\n",
      " [0 0 0 ... 0 0 0]\n",
      " [0 1 0 ... 1 0 0]]\n",
      "[[2.63124585e-01 1.78785324e-01 1.03116930e-02 ... 2.71758437e-01\n",
      "  3.28004360e-03 7.94133544e-03]\n",
      " [2.77134955e-01 2.48233587e-01 9.60856676e-04 ... 2.30683118e-01\n",
      "  3.40893865e-03 1.30205452e-02]\n",
      " [3.90260041e-01 1.25077724e-01 1.40610337e-03 ... 6.90042198e-01\n",
      "  2.62141228e-04 8.71717930e-04]\n",
      " ...\n",
      " [3.09117973e-01 6.80985749e-02 5.22771478e-03 ... 1.03127062e-02\n",
      "  2.92062759e-04 1.82333589e-03]\n",
      " [3.54807496e-01 1.09933525e-01 1.25157535e-02 ... 7.23650753e-02\n",
      "  3.34650278e-04 2.18155980e-03]\n",
      " [2.50127733e-01 1.75150633e-01 4.12324071e-03 ... 7.35747337e-01\n",
      "  2.70441175e-03 4.26012278e-03]]\n",
      "0.8472873921653629\n"
     ]
    }
   ],
   "source": [
    "x_train = []\n",
    "x_test = []\n",
    "y_train = []\n",
    "\n",
    "df_train = pd.read_csv('/courses/EDS232/planet/data/train_v2.csv')\n",
    "\n",
    "flatten = lambda l: [item for sublist in l for item in sublist]\n",
    "labels = list(set(flatten([l.split(' ') for l in df_train['tags'].values])))\n",
    "\n",
    "label_map = {l: i for i, l in enumerate(labels)}\n",
    "inv_label_map = {i: l for l, i in label_map.items()}\n",
    "\n",
    "for f, tags in tqdm(df_train.values, miniters=1000):\n",
    "    img = cv2.imread('/courses/EDS232/planet/data/train-jpg/{}.jpg'.format(f))\n",
    "    targets = np.zeros(17)\n",
    "    for t in tags.split(' '):\n",
    "        targets[label_map[t]] = 1 \n",
    "    x_train.append(cv2.resize(img, (32, 32)))\n",
    "    y_train.append(targets)\n",
    "    \n",
    "y_train = np.array(y_train, np.uint8)\n",
    "x_train = np.array(x_train, np.float16) / 255.\n",
    "\n",
    "print(x_train.shape)\n",
    "print(y_train.shape)\n",
    "\n",
    "split = 35000\n",
    "x_train, x_valid, y_train, y_valid = x_train[:split], x_train[split:], y_train[:split], y_train[split:]\n",
    "\n",
    "model = Sequential()\n",
    "model.add(Conv2D(32, kernel_size=(3, 3),\n",
    "                 activation='relu',\n",
    "                 input_shape=(32, 32, 3)))\n",
    "\n",
    "model.add(Conv2D(64, (3, 3), activation='relu'))\n",
    "model.add(MaxPooling2D(pool_size=(2, 2)))\n",
    "model.add(Dropout(0.25))\n",
    "model.add(Flatten())\n",
    "model.add(Dense(128, activation='relu'))\n",
    "model.add(Dropout(0.5))\n",
    "model.add(Dense(17, activation='sigmoid'))\n",
    "\n",
    "model.compile(loss='binary_crossentropy', # We NEED binary here, since categorical_crossentropy l1 norms the output before calculating loss.\n",
    "              optimizer='adam',\n",
    "              metrics=['accuracy'])\n",
    "              \n",
    "model.fit(x_train, y_train,\n",
    "          batch_size=128,\n",
    "          epochs=4,\n",
    "          verbose=1,\n",
    "          validation_data=(x_valid, y_valid))\n",
    "          \n",
    "from sklearn.metrics import fbeta_score\n",
    "\n",
    "p_valid = model.predict(x_valid, batch_size=128)\n",
    "print(y_valid)\n",
    "print(p_valid)\n",
    "print(fbeta_score(y_valid, np.array(p_valid) > 0.2, beta=2, average='samples'))"
   ]
  },
  {
   "cell_type": "code",
   "execution_count": null,
   "id": "140e437e-261b-4171-a6c2-49422f75aee6",
   "metadata": {},
   "outputs": [],
   "source": []
  }
 ],
 "metadata": {
  "kernelspec": {
   "display_name": "Python 3 (ipykernel)",
   "language": "python",
   "name": "python3"
  },
  "language_info": {
   "codemirror_mode": {
    "name": "ipython",
    "version": 3
   },
   "file_extension": ".py",
   "mimetype": "text/x-python",
   "name": "python",
   "nbconvert_exporter": "python",
   "pygments_lexer": "ipython3",
   "version": "3.7.7"
  }
 },
 "nbformat": 4,
 "nbformat_minor": 5
}
